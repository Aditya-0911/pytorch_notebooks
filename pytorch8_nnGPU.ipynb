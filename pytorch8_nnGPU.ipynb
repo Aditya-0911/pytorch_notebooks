{
  "nbformat": 4,
  "nbformat_minor": 0,
  "metadata": {
    "colab": {
      "provenance": []
    },
    "kernelspec": {
      "name": "python3",
      "display_name": "Python 3"
    },
    "language_info": {
      "name": "python"
    }
  },
  "cells": [
    {
      "cell_type": "code",
      "execution_count": 66,
      "metadata": {
        "colab": {
          "base_uri": "https://localhost:8080/"
        },
        "id": "80IiWV5F93AW",
        "outputId": "ac367e48-a1d0-4cbd-fecd-f4c9dde912bd"
      },
      "outputs": [
        {
          "output_type": "stream",
          "name": "stdout",
          "text": [
            "Data shape: (70000, 784), Labels shape: (70000,)\n"
          ]
        }
      ],
      "source": [
        "from sklearn.datasets import fetch_openml\n",
        "\n",
        "# Load Fashion MNIST\n",
        "fashion_mnist = fetch_openml('Fashion-MNIST', version=1, as_frame=False)\n",
        "\n",
        "# Extract data and labels\n",
        "X, y = fashion_mnist.data, fashion_mnist.target.astype(int)\n",
        "\n",
        "print(f\"Data shape: {X.shape}, Labels shape: {y.shape}\")\n"
      ]
    },
    {
      "cell_type": "code",
      "source": [
        "import numpy as np\n",
        "import pandas as pd\n",
        "import torch\n",
        "from torch.utils.data import Dataset, DataLoader\n",
        "import torch.optim as optim\n",
        "import torch.nn as nn\n",
        "from sklearn.model_selection import train_test_split"
      ],
      "metadata": {
        "id": "8CuaUau9-fbx"
      },
      "execution_count": 67,
      "outputs": []
    },
    {
      "cell_type": "code",
      "source": [
        "torch.manual_seed(123)"
      ],
      "metadata": {
        "colab": {
          "base_uri": "https://localhost:8080/"
        },
        "id": "8EConOTrA3tL",
        "outputId": "bbc13ba0-2677-4cd1-e876-f88b18865ebb"
      },
      "execution_count": 68,
      "outputs": [
        {
          "output_type": "execute_result",
          "data": {
            "text/plain": [
              "<torch._C.Generator at 0x7d9afa28cdd0>"
            ]
          },
          "metadata": {},
          "execution_count": 68
        }
      ]
    },
    {
      "cell_type": "code",
      "source": [
        "device = torch.device(\"cuda\" if torch.cuda.is_available() else \"cpu\")\n",
        "print(device)"
      ],
      "metadata": {
        "colab": {
          "base_uri": "https://localhost:8080/"
        },
        "id": "qTLPlhtQA54-",
        "outputId": "13a58731-001c-4e90-cf48-e9493d29a15b"
      },
      "execution_count": 69,
      "outputs": [
        {
          "output_type": "stream",
          "name": "stdout",
          "text": [
            "cuda\n"
          ]
        }
      ]
    },
    {
      "cell_type": "code",
      "source": [
        "x_train, x_test, y_train, y_test = train_test_split(X, y, test_size=0.2, random_state=42)"
      ],
      "metadata": {
        "id": "K9xI8UqS_F_d"
      },
      "execution_count": 70,
      "outputs": []
    },
    {
      "cell_type": "code",
      "source": [
        "y_train"
      ],
      "metadata": {
        "colab": {
          "base_uri": "https://localhost:8080/"
        },
        "id": "FF8Lsc1TAJ21",
        "outputId": "350513d2-d686-47ee-f2e1-87d9f2450915"
      },
      "execution_count": 71,
      "outputs": [
        {
          "output_type": "execute_result",
          "data": {
            "text/plain": [
              "array([8, 0, 6, ..., 7, 6, 6])"
            ]
          },
          "metadata": {},
          "execution_count": 71
        }
      ]
    },
    {
      "cell_type": "code",
      "source": [
        "class dataset(Dataset):\n",
        "\n",
        "  def __init__(self, x, y):\n",
        "\n",
        "    self.x = torch.tensor(x, dtype=torch.float32)\n",
        "    self.y = torch.tensor(y, dtype=torch.long)\n",
        "\n",
        "  def __len__(self):\n",
        "    return len(self.x)\n",
        "\n",
        "  def __getitem__(self, index):\n",
        "    return self.x[index], self.y[index]"
      ],
      "metadata": {
        "id": "sEggua09_JtY"
      },
      "execution_count": 72,
      "outputs": []
    },
    {
      "cell_type": "code",
      "source": [
        "train_dataset = dataset(x_train, y_train)\n",
        "test_dataset = dataset(x_test, y_test)"
      ],
      "metadata": {
        "id": "4S9HZ9BEACx_"
      },
      "execution_count": 73,
      "outputs": []
    },
    {
      "cell_type": "code",
      "source": [
        "train_loader = DataLoader(train_dataset, batch_size=128,pin_memory=True, shuffle=True) # use larger batch size and pin_memory\n",
        "test_loader = DataLoader(test_dataset, batch_size=128,pin_memory=True, shuffle=True)"
      ],
      "metadata": {
        "id": "ZLMZo1VtAjzI"
      },
      "execution_count": 82,
      "outputs": []
    },
    {
      "cell_type": "code",
      "source": [
        "class Model(nn.Module):\n",
        "\n",
        "  def __init__(self,num_features):\n",
        "    super().__init__()\n",
        "\n",
        "    self.layers = nn.Sequential(\n",
        "        nn.Linear(num_features, 128),\n",
        "        nn.ReLU(),\n",
        "        nn.Linear(128, 64),\n",
        "        nn.ReLU(),\n",
        "        nn.Linear(64, 10)\n",
        "    )\n",
        "\n",
        "  def forward(self, x):\n",
        "    return self.layers(x)"
      ],
      "metadata": {
        "id": "Oo6fPkYF_1oG"
      },
      "execution_count": 83,
      "outputs": []
    },
    {
      "cell_type": "code",
      "source": [
        "model = Model(x_train.shape[1]).to(device)"
      ],
      "metadata": {
        "id": "tZgxOk0UBIP5"
      },
      "execution_count": 84,
      "outputs": []
    },
    {
      "cell_type": "code",
      "source": [
        "lr = 0.001\n",
        "epochs = 25"
      ],
      "metadata": {
        "id": "JEP8NrVDCoAs"
      },
      "execution_count": 85,
      "outputs": []
    },
    {
      "cell_type": "code",
      "source": [
        "lossfn = nn.CrossEntropyLoss()\n",
        "\n",
        "optimizer = optim.Adam(model.parameters(), lr=lr)"
      ],
      "metadata": {
        "id": "-I53tLFmBPTF"
      },
      "execution_count": 86,
      "outputs": []
    },
    {
      "cell_type": "code",
      "source": [
        "device"
      ],
      "metadata": {
        "colab": {
          "base_uri": "https://localhost:8080/"
        },
        "id": "ZtlGdcCvCICw",
        "outputId": "586beaab-29cb-4e2d-8f27-1aae09fbde47"
      },
      "execution_count": 87,
      "outputs": [
        {
          "output_type": "execute_result",
          "data": {
            "text/plain": [
              "device(type='cuda')"
            ]
          },
          "metadata": {},
          "execution_count": 87
        }
      ]
    },
    {
      "cell_type": "code",
      "source": [
        "for i in range(epochs):\n",
        "\n",
        "  total_epoch_loss = 0\n",
        "\n",
        "  for batch_features, batch_labels in train_loader:\n",
        "\n",
        "    batch_features, batch_labels = batch_features.to(device), batch_labels.to(device)\n",
        "\n",
        "    output = model(batch_features)\n",
        "\n",
        "    loss = lossfn(output, batch_labels)\n",
        "\n",
        "    optimizer.zero_grad()\n",
        "\n",
        "    loss.backward()\n",
        "\n",
        "    optimizer.step()\n",
        "\n",
        "    total_epoch_loss += loss.item()\n",
        "\n",
        "  print(f\"Epoch: {i+1}, Loss: {total_epoch_loss/len(train_loader)}\")\n"
      ],
      "metadata": {
        "colab": {
          "base_uri": "https://localhost:8080/"
        },
        "id": "r7cqJxpvBcqj",
        "outputId": "f42f3999-1728-4739-9d8f-09faa54dbd3f"
      },
      "execution_count": 88,
      "outputs": [
        {
          "output_type": "stream",
          "name": "stdout",
          "text": [
            "Epoch: 1, Loss: 0.8273949398569864\n",
            "Epoch: 2, Loss: 0.43790203938473304\n",
            "Epoch: 3, Loss: 0.39738929122005967\n",
            "Epoch: 4, Loss: 0.3774742960045327\n",
            "Epoch: 5, Loss: 0.34840084731442744\n",
            "Epoch: 6, Loss: 0.3439651353106107\n",
            "Epoch: 7, Loss: 0.32977073537568524\n",
            "Epoch: 8, Loss: 0.3251156220085\n",
            "Epoch: 9, Loss: 0.31295329427610247\n",
            "Epoch: 10, Loss: 0.31714767037325253\n",
            "Epoch: 11, Loss: 0.31025493985305636\n",
            "Epoch: 12, Loss: 0.29447864361753745\n",
            "Epoch: 13, Loss: 0.30170230193225217\n",
            "Epoch: 14, Loss: 0.29325156116254253\n",
            "Epoch: 15, Loss: 0.2941481983416701\n",
            "Epoch: 16, Loss: 0.2862060273823128\n",
            "Epoch: 17, Loss: 0.2809003053326585\n",
            "Epoch: 18, Loss: 0.2760756750969582\n",
            "Epoch: 19, Loss: 0.2754505916273213\n",
            "Epoch: 20, Loss: 0.27218134388259557\n",
            "Epoch: 21, Loss: 0.2663730951919131\n",
            "Epoch: 22, Loss: 0.26379324162387413\n",
            "Epoch: 23, Loss: 0.2613833422121936\n",
            "Epoch: 24, Loss: 0.2640929298824099\n",
            "Epoch: 25, Loss: 0.2562598446256494\n"
          ]
        }
      ]
    },
    {
      "cell_type": "code",
      "source": [
        "model.eval()"
      ],
      "metadata": {
        "colab": {
          "base_uri": "https://localhost:8080/"
        },
        "id": "S0DjAoTSB4nw",
        "outputId": "20312cf5-fc13-4552-e5a3-083160860bba"
      },
      "execution_count": 89,
      "outputs": [
        {
          "output_type": "execute_result",
          "data": {
            "text/plain": [
              "Model(\n",
              "  (layers): Sequential(\n",
              "    (0): Linear(in_features=784, out_features=128, bias=True)\n",
              "    (1): ReLU()\n",
              "    (2): Linear(in_features=128, out_features=64, bias=True)\n",
              "    (3): ReLU()\n",
              "    (4): Linear(in_features=64, out_features=10, bias=True)\n",
              "  )\n",
              ")"
            ]
          },
          "metadata": {},
          "execution_count": 89
        }
      ]
    },
    {
      "cell_type": "code",
      "source": [
        "total = 0\n",
        "count = 0\n",
        "\n",
        "with torch.no_grad():\n",
        "\n",
        "  for batch_features, batch_labels in test_loader:\n",
        "\n",
        "    batch_features, batch_labels = batch_features.to(device), batch_labels.to(device)\n",
        "\n",
        "    output = model(batch_features)\n",
        "\n",
        "    _, predicted = torch.max(output.data, 1)\n",
        "\n",
        "    total += batch_labels.size(0)\n",
        "\n",
        "    count += (predicted == batch_labels).sum().item()\n",
        "\n",
        "print(f\"Accuracy: {count/total}\")"
      ],
      "metadata": {
        "colab": {
          "base_uri": "https://localhost:8080/"
        },
        "id": "bMj9jW6EC6Q0",
        "outputId": "ad31bba0-c575-47d3-d569-4880cc6d9b47"
      },
      "execution_count": 91,
      "outputs": [
        {
          "output_type": "stream",
          "name": "stdout",
          "text": [
            "Accuracy: 0.8774285714285714\n"
          ]
        }
      ]
    },
    {
      "cell_type": "code",
      "source": [],
      "metadata": {
        "id": "nU0Au3ueDskG"
      },
      "execution_count": null,
      "outputs": []
    }
  ]
}