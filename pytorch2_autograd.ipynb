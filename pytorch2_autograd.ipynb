{
  "nbformat": 4,
  "nbformat_minor": 0,
  "metadata": {
    "colab": {
      "provenance": []
    },
    "kernelspec": {
      "name": "python3",
      "display_name": "Python 3"
    },
    "language_info": {
      "name": "python"
    }
  },
  "cells": [
    {
      "cell_type": "code",
      "execution_count": 1,
      "metadata": {
        "id": "xuT_C4rIEyWO"
      },
      "outputs": [],
      "source": [
        "import torch"
      ]
    },
    {
      "cell_type": "markdown",
      "source": [
        "## Derivatives using Autograd"
      ],
      "metadata": {
        "id": "d5dccmk1vANa"
      }
    },
    {
      "cell_type": "code",
      "source": [
        "x = 2.0\n",
        "y = x**3\n",
        "\n",
        "def dydx(x):\n",
        "  return 3*x**2\n",
        "\n",
        "dydx(x)"
      ],
      "metadata": {
        "colab": {
          "base_uri": "https://localhost:8080/"
        },
        "id": "JvKFuBZhvRMt",
        "outputId": "faafce16-0098-4c8e-a32c-839053aa426e"
      },
      "execution_count": 6,
      "outputs": [
        {
          "output_type": "execute_result",
          "data": {
            "text/plain": [
              "12.0"
            ]
          },
          "metadata": {},
          "execution_count": 6
        }
      ]
    },
    {
      "cell_type": "code",
      "source": [
        "x = torch.tensor(2.0,requires_grad=True) # required grad helps to track the functions applied on x and x should be float\n",
        "x"
      ],
      "metadata": {
        "colab": {
          "base_uri": "https://localhost:8080/"
        },
        "id": "NmH8-Yp0FB1r",
        "outputId": "562327b5-ef74-427e-fac3-4978669ce389"
      },
      "execution_count": 44,
      "outputs": [
        {
          "output_type": "execute_result",
          "data": {
            "text/plain": [
              "tensor(2., requires_grad=True)"
            ]
          },
          "metadata": {},
          "execution_count": 44
        }
      ]
    },
    {
      "cell_type": "code",
      "source": [
        "y = x**3\n",
        "y"
      ],
      "metadata": {
        "colab": {
          "base_uri": "https://localhost:8080/"
        },
        "id": "qljJTDu9v3Lc",
        "outputId": "8a679694-b224-453b-cd9c-49954e17798a"
      },
      "execution_count": 45,
      "outputs": [
        {
          "output_type": "execute_result",
          "data": {
            "text/plain": [
              "tensor(8., grad_fn=<PowBackward0>)"
            ]
          },
          "metadata": {},
          "execution_count": 45
        }
      ]
    },
    {
      "cell_type": "code",
      "source": [
        "y.backward() # no manual dy/dx func required\n",
        "x.grad"
      ],
      "metadata": {
        "colab": {
          "base_uri": "https://localhost:8080/"
        },
        "id": "jU9vdWX2v5Os",
        "outputId": "1ddebff1-8584-4812-da9e-d0b272451628"
      },
      "execution_count": 46,
      "outputs": [
        {
          "output_type": "execute_result",
          "data": {
            "text/plain": [
              "tensor(12.)"
            ]
          },
          "metadata": {},
          "execution_count": 46
        }
      ]
    },
    {
      "cell_type": "code",
      "source": [
        "x = torch.tensor(2.0,requires_grad=True)\n",
        "y = x**3\n",
        "z = torch.sin(y)\n",
        "z"
      ],
      "metadata": {
        "colab": {
          "base_uri": "https://localhost:8080/"
        },
        "id": "qAly9v6lv-zw",
        "outputId": "093ae5cf-892e-4dfa-ad67-50cde83f2ceb"
      },
      "execution_count": 62,
      "outputs": [
        {
          "output_type": "execute_result",
          "data": {
            "text/plain": [
              "tensor(0.9894, grad_fn=<SinBackward0>)"
            ]
          },
          "metadata": {},
          "execution_count": 62
        }
      ]
    },
    {
      "cell_type": "code",
      "source": [
        "x"
      ],
      "metadata": {
        "colab": {
          "base_uri": "https://localhost:8080/"
        },
        "id": "lWb3fiUawWwh",
        "outputId": "1520f9fa-8b6a-4886-d6fe-1e8dd6d7b4fb"
      },
      "execution_count": 63,
      "outputs": [
        {
          "output_type": "execute_result",
          "data": {
            "text/plain": [
              "tensor(2., requires_grad=True)"
            ]
          },
          "metadata": {},
          "execution_count": 63
        }
      ]
    },
    {
      "cell_type": "code",
      "source": [
        "y"
      ],
      "metadata": {
        "colab": {
          "base_uri": "https://localhost:8080/"
        },
        "id": "SeKcR_LHwa6p",
        "outputId": "f8f9eb33-0fb5-442e-ab72-8d429e1171a3"
      },
      "execution_count": 64,
      "outputs": [
        {
          "output_type": "execute_result",
          "data": {
            "text/plain": [
              "tensor(8., grad_fn=<PowBackward0>)"
            ]
          },
          "metadata": {},
          "execution_count": 64
        }
      ]
    },
    {
      "cell_type": "code",
      "source": [
        "z.backward()\n",
        "x.grad #backward function run only once for a varible because of gradient accumulation and only for the leaf or last variable"
      ],
      "metadata": {
        "colab": {
          "base_uri": "https://localhost:8080/"
        },
        "id": "wjMygBX9wb9K",
        "outputId": "833af8d8-73b5-4414-9784-9db3efd19402"
      },
      "execution_count": 65,
      "outputs": [
        {
          "output_type": "execute_result",
          "data": {
            "text/plain": [
              "tensor(-1.7460)"
            ]
          },
          "metadata": {},
          "execution_count": 65
        }
      ]
    },
    {
      "cell_type": "markdown",
      "source": [
        "### Single sigmoid neuron"
      ],
      "metadata": {
        "id": "dkh7RB1_xmRT"
      }
    },
    {
      "cell_type": "code",
      "source": [
        "x = torch.tensor(6.7)\n",
        "y = torch.tensor(0.0)\n",
        "\n",
        "w = torch.tensor(1.0, requires_grad=True)\n",
        "b = torch.tensor(0.0, requires_grad=True)"
      ],
      "metadata": {
        "id": "ShSrVa_rw95F"
      },
      "execution_count": 82,
      "outputs": []
    },
    {
      "cell_type": "code",
      "source": [
        "z = w*x+b\n",
        "z"
      ],
      "metadata": {
        "colab": {
          "base_uri": "https://localhost:8080/"
        },
        "id": "zxc7Ch0syLFs",
        "outputId": "5249e334-033c-40a8-beca-a515a261e838"
      },
      "execution_count": 83,
      "outputs": [
        {
          "output_type": "execute_result",
          "data": {
            "text/plain": [
              "tensor(6.7000, grad_fn=<AddBackward0>)"
            ]
          },
          "metadata": {},
          "execution_count": 83
        }
      ]
    },
    {
      "cell_type": "code",
      "source": [
        "ypred = torch.sigmoid(z)\n",
        "ypred"
      ],
      "metadata": {
        "colab": {
          "base_uri": "https://localhost:8080/"
        },
        "id": "V-kkbS53ytF5",
        "outputId": "54853525-9736-43f8-9694-613f2d92278f"
      },
      "execution_count": 84,
      "outputs": [
        {
          "output_type": "execute_result",
          "data": {
            "text/plain": [
              "tensor(0.9988, grad_fn=<SigmoidBackward0>)"
            ]
          },
          "metadata": {},
          "execution_count": 84
        }
      ]
    },
    {
      "cell_type": "code",
      "source": [
        "L = -(y*torch.log(ypred)+(1-y)*torch.log(1-ypred))\n",
        "L"
      ],
      "metadata": {
        "colab": {
          "base_uri": "https://localhost:8080/"
        },
        "id": "KLkWa-AlyxIO",
        "outputId": "e7378923-287f-4505-bf9e-f4fc0b14dc19"
      },
      "execution_count": 85,
      "outputs": [
        {
          "output_type": "execute_result",
          "data": {
            "text/plain": [
              "tensor(6.7012, grad_fn=<NegBackward0>)"
            ]
          },
          "metadata": {},
          "execution_count": 85
        }
      ]
    },
    {
      "cell_type": "code",
      "source": [
        "L.backward()\n",
        "print(w.grad)\n",
        "print(b.grad)"
      ],
      "metadata": {
        "colab": {
          "base_uri": "https://localhost:8080/"
        },
        "id": "FFg5FWByy6i3",
        "outputId": "97d000de-7ef6-4c9f-fa44-42de6a00512d"
      },
      "execution_count": 86,
      "outputs": [
        {
          "output_type": "stream",
          "name": "stdout",
          "text": [
            "tensor(6.6918)\n",
            "tensor(0.9988)\n"
          ]
        }
      ]
    },
    {
      "cell_type": "code",
      "source": [
        "x = torch.tensor([6.7,8.1,9.0])\n",
        "y = torch.tensor([0.0,1.0,1.0])\n",
        "\n",
        "w = torch.tensor(1.0, requires_grad=True)\n",
        "b = torch.tensor(0.0, requires_grad=True)"
      ],
      "metadata": {
        "id": "wRD21D2q0Nht"
      },
      "execution_count": 95,
      "outputs": []
    },
    {
      "cell_type": "code",
      "source": [
        "z = w*x+b\n",
        "z"
      ],
      "metadata": {
        "colab": {
          "base_uri": "https://localhost:8080/"
        },
        "id": "K6YdeRxn0We4",
        "outputId": "d9871947-9398-440a-edef-4440ffa60853"
      },
      "execution_count": 96,
      "outputs": [
        {
          "output_type": "execute_result",
          "data": {
            "text/plain": [
              "tensor([6.7000, 8.1000, 9.0000], grad_fn=<AddBackward0>)"
            ]
          },
          "metadata": {},
          "execution_count": 96
        }
      ]
    },
    {
      "cell_type": "code",
      "source": [
        "ypred = torch.sigmoid(z)\n",
        "ypred"
      ],
      "metadata": {
        "colab": {
          "base_uri": "https://localhost:8080/"
        },
        "id": "KNT8dO_S0Y4d",
        "outputId": "0d1e40dc-aa70-4c94-bc27-5177f612cd93"
      },
      "execution_count": 97,
      "outputs": [
        {
          "output_type": "execute_result",
          "data": {
            "text/plain": [
              "tensor([0.9988, 0.9997, 0.9999], grad_fn=<SigmoidBackward0>)"
            ]
          },
          "metadata": {},
          "execution_count": 97
        }
      ]
    },
    {
      "cell_type": "code",
      "source": [
        "L = -(y*torch.log(ypred)+(1-y)*torch.log(1-ypred))\n",
        "L = torch.sum(L)\n",
        "L"
      ],
      "metadata": {
        "colab": {
          "base_uri": "https://localhost:8080/"
        },
        "id": "whs-ziaF0bHb",
        "outputId": "6339b5cb-9a14-49f0-d216-f7197862091c"
      },
      "execution_count": 98,
      "outputs": [
        {
          "output_type": "execute_result",
          "data": {
            "text/plain": [
              "tensor(6.7016, grad_fn=<SumBackward0>)"
            ]
          },
          "metadata": {},
          "execution_count": 98
        }
      ]
    },
    {
      "cell_type": "code",
      "source": [
        "L.backward()\n",
        "print(w.grad)\n",
        "print(b.grad)"
      ],
      "metadata": {
        "colab": {
          "base_uri": "https://localhost:8080/"
        },
        "id": "DwlpgP2M0mrq",
        "outputId": "e20c9077-da04-45cb-92ef-32594aa8ec3d"
      },
      "execution_count": 99,
      "outputs": [
        {
          "output_type": "stream",
          "name": "stdout",
          "text": [
            "tensor(6.6882)\n",
            "tensor(0.9983)\n"
          ]
        }
      ]
    },
    {
      "cell_type": "markdown",
      "source": [
        "### Gradient Accumulation"
      ],
      "metadata": {
        "id": "yYYJ00Ek0ACa"
      }
    },
    {
      "cell_type": "code",
      "source": [
        "x = torch.tensor(2.0,requires_grad=True)"
      ],
      "metadata": {
        "id": "3vEIuhqFze5M"
      },
      "execution_count": 107,
      "outputs": []
    },
    {
      "cell_type": "code",
      "source": [
        "for i in range(5):\n",
        "  y = x**3\n",
        "  y.backward()\n",
        "  print(f'Gradient of X at {i} is {x.grad}') # problem during multiple forward and backward pass in nn training"
      ],
      "metadata": {
        "colab": {
          "base_uri": "https://localhost:8080/"
        },
        "id": "S2xNZBvN0w5H",
        "outputId": "587dd72c-5292-4cb9-c28d-3a5347b753a6"
      },
      "execution_count": 108,
      "outputs": [
        {
          "output_type": "stream",
          "name": "stdout",
          "text": [
            "Gradient of X at 0 is 12.0\n",
            "Gradient of X at 1 is 24.0\n",
            "Gradient of X at 2 is 36.0\n",
            "Gradient of X at 3 is 48.0\n",
            "Gradient of X at 4 is 60.0\n"
          ]
        }
      ]
    },
    {
      "cell_type": "code",
      "source": [
        "x = torch.tensor(2.0,requires_grad=True)\n",
        "\n",
        "for i in range(5):\n",
        "  y = x**3\n",
        "  y.backward()\n",
        "  print(f'Gradient of X at {i} is {x.grad}')\n",
        "  x.grad.zero_() # stops gradient accumulation"
      ],
      "metadata": {
        "colab": {
          "base_uri": "https://localhost:8080/"
        },
        "id": "TOgfofl01AqW",
        "outputId": "73309f92-0a68-4c02-eebd-53ce72951287"
      },
      "execution_count": 111,
      "outputs": [
        {
          "output_type": "stream",
          "name": "stdout",
          "text": [
            "Gradient of X at 0 is 12.0\n",
            "Gradient of X at 1 is 12.0\n",
            "Gradient of X at 2 is 12.0\n",
            "Gradient of X at 3 is 12.0\n",
            "Gradient of X at 4 is 12.0\n"
          ]
        }
      ]
    },
    {
      "cell_type": "markdown",
      "source": [
        "### Stopping gradient tracking"
      ],
      "metadata": {
        "id": "OK9sTmQr2LZU"
      }
    },
    {
      "cell_type": "code",
      "source": [
        "# gradient tracking is stopped after training\n",
        "\n",
        "# using require_gradient_\n",
        "x.requires_grad_(False)"
      ],
      "metadata": {
        "colab": {
          "base_uri": "https://localhost:8080/"
        },
        "id": "fzP6RgZH1hPw",
        "outputId": "a257d025-a9c5-49cf-8483-4cf55fa65ab1"
      },
      "execution_count": 118,
      "outputs": [
        {
          "output_type": "execute_result",
          "data": {
            "text/plain": [
              "tensor(2.)"
            ]
          },
          "metadata": {},
          "execution_count": 118
        }
      ]
    },
    {
      "cell_type": "code",
      "source": [
        "# using detach\n",
        "\n",
        "x = torch.tensor(2.0,requires_grad=True)\n",
        "z = x.detach()\n",
        "z"
      ],
      "metadata": {
        "colab": {
          "base_uri": "https://localhost:8080/"
        },
        "id": "zBfySvip2SyK",
        "outputId": "02fcdc08-8e67-4b3d-c6ac-8c424bfc0cff"
      },
      "execution_count": 119,
      "outputs": [
        {
          "output_type": "execute_result",
          "data": {
            "text/plain": [
              "tensor(2.)"
            ]
          },
          "metadata": {},
          "execution_count": 119
        }
      ]
    },
    {
      "cell_type": "code",
      "source": [
        "# using torch.no_grad\n",
        "\n",
        "x = torch.tensor(2.0,requires_grad=True)\n",
        "\n",
        "with torch.no_grad():\n",
        "  y = x**3\n",
        "  print(y)"
      ],
      "metadata": {
        "colab": {
          "base_uri": "https://localhost:8080/"
        },
        "id": "spxT-K3b2d17",
        "outputId": "ecc3b304-0177-4858-c99a-a344428947d1"
      },
      "execution_count": 120,
      "outputs": [
        {
          "output_type": "stream",
          "name": "stdout",
          "text": [
            "tensor(8.)\n"
          ]
        }
      ]
    },
    {
      "cell_type": "code",
      "source": [],
      "metadata": {
        "id": "jI-RfgoH2k3S"
      },
      "execution_count": 120,
      "outputs": []
    }
  ]
}