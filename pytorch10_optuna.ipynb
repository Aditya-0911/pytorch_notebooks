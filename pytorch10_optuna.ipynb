{
  "nbformat": 4,
  "nbformat_minor": 0,
  "metadata": {
    "colab": {
      "provenance": [],
      "gpuType": "T4"
    },
    "kernelspec": {
      "name": "python3",
      "display_name": "Python 3"
    },
    "language_info": {
      "name": "python"
    },
    "accelerator": "GPU"
  },
  "cells": [
    {
      "cell_type": "code",
      "execution_count": null,
      "metadata": {
        "colab": {
          "base_uri": "https://localhost:8080/"
        },
        "id": "YtIzR3m6uc4P",
        "outputId": "d4aa685a-c53d-4ed0-cc4a-e70758d69aa6"
      },
      "outputs": [
        {
          "output_type": "stream",
          "name": "stdout",
          "text": [
            "Collecting optuna\n",
            "  Downloading optuna-4.2.1-py3-none-any.whl.metadata (17 kB)\n",
            "Collecting alembic>=1.5.0 (from optuna)\n",
            "  Downloading alembic-1.15.2-py3-none-any.whl.metadata (7.3 kB)\n",
            "Collecting colorlog (from optuna)\n",
            "  Downloading colorlog-6.9.0-py3-none-any.whl.metadata (10 kB)\n",
            "Requirement already satisfied: numpy in /usr/local/lib/python3.11/dist-packages (from optuna) (2.0.2)\n",
            "Requirement already satisfied: packaging>=20.0 in /usr/local/lib/python3.11/dist-packages (from optuna) (24.2)\n",
            "Requirement already satisfied: sqlalchemy>=1.4.2 in /usr/local/lib/python3.11/dist-packages (from optuna) (2.0.40)\n",
            "Requirement already satisfied: tqdm in /usr/local/lib/python3.11/dist-packages (from optuna) (4.67.1)\n",
            "Requirement already satisfied: PyYAML in /usr/local/lib/python3.11/dist-packages (from optuna) (6.0.2)\n",
            "Requirement already satisfied: Mako in /usr/lib/python3/dist-packages (from alembic>=1.5.0->optuna) (1.1.3)\n",
            "Requirement already satisfied: typing-extensions>=4.12 in /usr/local/lib/python3.11/dist-packages (from alembic>=1.5.0->optuna) (4.13.0)\n",
            "Requirement already satisfied: greenlet>=1 in /usr/local/lib/python3.11/dist-packages (from sqlalchemy>=1.4.2->optuna) (3.1.1)\n",
            "Downloading optuna-4.2.1-py3-none-any.whl (383 kB)\n",
            "\u001b[2K   \u001b[90m━━━━━━━━━━━━━━━━━━━━━━━━━━━━━━━━━━━━━━━━\u001b[0m \u001b[32m383.6/383.6 kB\u001b[0m \u001b[31m9.7 MB/s\u001b[0m eta \u001b[36m0:00:00\u001b[0m\n",
            "\u001b[?25hDownloading alembic-1.15.2-py3-none-any.whl (231 kB)\n",
            "\u001b[2K   \u001b[90m━━━━━━━━━━━━━━━━━━━━━━━━━━━━━━━━━━━━━━━━\u001b[0m \u001b[32m231.9/231.9 kB\u001b[0m \u001b[31m17.7 MB/s\u001b[0m eta \u001b[36m0:00:00\u001b[0m\n",
            "\u001b[?25hDownloading colorlog-6.9.0-py3-none-any.whl (11 kB)\n",
            "Installing collected packages: colorlog, alembic, optuna\n",
            "Successfully installed alembic-1.15.2 colorlog-6.9.0 optuna-4.2.1\n"
          ]
        }
      ],
      "source": [
        "! pip install optuna"
      ]
    },
    {
      "cell_type": "code",
      "source": [
        "from sklearn.datasets import fetch_openml\n",
        "\n",
        "# Load Fashion MNIST\n",
        "fashion_mnist = fetch_openml('Fashion-MNIST', version=1, as_frame=False)\n",
        "\n",
        "# Extract data and labels\n",
        "X, y = fashion_mnist.data, fashion_mnist.target.astype(int)\n",
        "\n",
        "print(f\"Data shape: {X.shape}, Labels shape: {y.shape}\")\n"
      ],
      "metadata": {
        "colab": {
          "base_uri": "https://localhost:8080/"
        },
        "id": "dxv6vyfHuoE4",
        "outputId": "5ea2ec40-1666-498e-97bf-522cd5fd4b6a"
      },
      "execution_count": null,
      "outputs": [
        {
          "output_type": "stream",
          "name": "stdout",
          "text": [
            "Data shape: (70000, 784), Labels shape: (70000,)\n"
          ]
        }
      ]
    },
    {
      "cell_type": "code",
      "source": [
        "import numpy as np\n",
        "import pandas as pd\n",
        "import torch\n",
        "from torch.utils.data import Dataset, DataLoader\n",
        "import torch.optim as optim\n",
        "import torch.nn as nn\n",
        "from sklearn.model_selection import train_test_split"
      ],
      "metadata": {
        "id": "csBQkTGruvnI"
      },
      "execution_count": null,
      "outputs": []
    },
    {
      "cell_type": "code",
      "source": [
        "torch.manual_seed(123)"
      ],
      "metadata": {
        "colab": {
          "base_uri": "https://localhost:8080/"
        },
        "id": "JLMIyxvTuxj7",
        "outputId": "4b8fba6d-82e1-463a-87e5-803d8c2d1e2d"
      },
      "execution_count": null,
      "outputs": [
        {
          "output_type": "execute_result",
          "data": {
            "text/plain": [
              "<torch._C.Generator at 0x7e8a88196430>"
            ]
          },
          "metadata": {},
          "execution_count": 4
        }
      ]
    },
    {
      "cell_type": "code",
      "source": [
        "device = torch.device(\"cuda\" if torch.cuda.is_available() else \"cpu\")\n",
        "print(device)"
      ],
      "metadata": {
        "colab": {
          "base_uri": "https://localhost:8080/"
        },
        "id": "WSk0qtmruzHM",
        "outputId": "7e188555-d182-4ca8-9442-363b3d9fb2b4"
      },
      "execution_count": null,
      "outputs": [
        {
          "output_type": "stream",
          "name": "stdout",
          "text": [
            "cuda\n"
          ]
        }
      ]
    },
    {
      "cell_type": "code",
      "source": [
        "x_train, x_test, y_train, y_test = train_test_split(X, y, test_size=0.2, random_state=42)"
      ],
      "metadata": {
        "id": "KWF2ppolu0d8"
      },
      "execution_count": null,
      "outputs": []
    },
    {
      "cell_type": "code",
      "source": [
        "class dataset(Dataset):\n",
        "\n",
        "  def __init__(self, x, y):\n",
        "\n",
        "    self.x = torch.tensor(x, dtype=torch.float32)\n",
        "    self.y = torch.tensor(y, dtype=torch.long)\n",
        "\n",
        "  def __len__(self):\n",
        "    return len(self.x)\n",
        "\n",
        "  def __getitem__(self, index):\n",
        "    return self.x[index], self.y[index]"
      ],
      "metadata": {
        "id": "3gjz6Oenu1rO"
      },
      "execution_count": null,
      "outputs": []
    },
    {
      "cell_type": "code",
      "source": [
        "x_train.shape"
      ],
      "metadata": {
        "colab": {
          "base_uri": "https://localhost:8080/"
        },
        "id": "wqEuZS5Jw1u_",
        "outputId": "0571b464-cd00-4569-ebc6-c5513543e3e9"
      },
      "execution_count": null,
      "outputs": [
        {
          "output_type": "execute_result",
          "data": {
            "text/plain": [
              "(56000, 784)"
            ]
          },
          "metadata": {},
          "execution_count": 11
        }
      ]
    },
    {
      "cell_type": "code",
      "source": [
        "train_dataset = dataset(x_train, y_train)\n",
        "test_dataset = dataset(x_test, y_test)"
      ],
      "metadata": {
        "id": "VgyqRzQXu3KZ"
      },
      "execution_count": null,
      "outputs": []
    },
    {
      "cell_type": "code",
      "source": [
        "train_loader = DataLoader(train_dataset, batch_size=128,pin_memory=True, shuffle=True) # use larger batch size and pin_memory\n",
        "test_loader = DataLoader(test_dataset, batch_size=128,pin_memory=True, shuffle=True)"
      ],
      "metadata": {
        "id": "HTah1uLLu47t"
      },
      "execution_count": null,
      "outputs": []
    },
    {
      "cell_type": "code",
      "source": [
        "# New model defination\n",
        "\n",
        "class Model(nn.Module):\n",
        "\n",
        "  def __init__(self,input_dim,output_dim,num_hidden_layer,neuron_per_layer):\n",
        "\n",
        "    super().__init__()\n",
        "\n",
        "    layers = []\n",
        "\n",
        "    for i in range(num_hidden_layer):\n",
        "\n",
        "      layers.append(nn.Linear(input_dim,neuron_per_layer))\n",
        "      layers.append(nn.BatchNorm1d(neuron_per_layer))\n",
        "      layers.append(nn.ReLU())\n",
        "      layers.append(nn.Dropout(p=0.2))\n",
        "      input_dim = neuron_per_layer\n",
        "\n",
        "    layers.append(nn.Linear(neuron_per_layer,output_dim))\n",
        "\n",
        "    self.model = nn.Sequential(*layers)\n",
        "\n",
        "  def forward(self,x):\n",
        "\n",
        "    return self.model(x)"
      ],
      "metadata": {
        "id": "8VcGf0EjwEp1"
      },
      "execution_count": null,
      "outputs": []
    },
    {
      "cell_type": "code",
      "source": [
        "# Objective function for Optuna\n",
        "\n",
        "def objective(trial):\n",
        "\n",
        "  num_hidden_layer = trial.suggest_int('num_hidden_layer',1,5)\n",
        "  neuron_per_layer = trial.suggest_int('neuron_per_layer',8,128,step=8)\n",
        "\n",
        "  input_dim = 784\n",
        "  output_dim = 10\n",
        "\n",
        "  model = Model(input_dim,output_dim,num_hidden_layer,neuron_per_layer)\n",
        "  model.to(device)\n",
        "\n",
        "  lr = 0.01\n",
        "  epochs = 10\n",
        "\n",
        "  lossfn = nn.CrossEntropyLoss()\n",
        "  optimizer = optim.Adam(model.parameters(), lr=lr)\n",
        "\n",
        "  for i in range(epochs):\n",
        "\n",
        "    for batch_features, batch_labels in train_loader:\n",
        "\n",
        "      batch_features, batch_labels = batch_features.to(device), batch_labels.to(device)\n",
        "\n",
        "      output = model(batch_features)\n",
        "\n",
        "      loss = lossfn(output, batch_labels)\n",
        "\n",
        "      optimizer.zero_grad()\n",
        "\n",
        "      loss.backward()\n",
        "\n",
        "      optimizer.step()\n",
        "\n",
        "\n",
        "  model.eval()\n",
        "\n",
        "\n",
        "  total = 0\n",
        "  count = 0\n",
        "\n",
        "  with torch.no_grad():\n",
        "\n",
        "    for batch_features, batch_labels in test_loader:\n",
        "\n",
        "      batch_features, batch_labels = batch_features.to(device), batch_labels.to(device)\n",
        "\n",
        "      output = model(batch_features)\n",
        "\n",
        "      _, predicted = torch.max(output.data, 1)\n",
        "\n",
        "      total += batch_labels.size(0)\n",
        "\n",
        "      count += (predicted == batch_labels).sum().item()\n",
        "\n",
        "  accuracy = count / total\n",
        "\n",
        "  return accuracy"
      ],
      "metadata": {
        "id": "xP9J1GM_u9Ko"
      },
      "execution_count": null,
      "outputs": []
    },
    {
      "cell_type": "code",
      "source": [
        "import optuna\n",
        "\n",
        "study = optuna.create_study(direction='maximize')\n",
        "study.optimize(objective, n_trials=10)"
      ],
      "metadata": {
        "colab": {
          "base_uri": "https://localhost:8080/"
        },
        "id": "G5q70jwRu6gW",
        "outputId": "28dec685-7aa7-44e6-a0b4-4dff60265f2c"
      },
      "execution_count": null,
      "outputs": [
        {
          "output_type": "stream",
          "name": "stderr",
          "text": [
            "[I 2025-04-06 15:45:28,790] A new study created in memory with name: no-name-8d198f52-76a8-4ddc-851e-73607ebbe51a\n",
            "[I 2025-04-06 15:45:50,606] Trial 0 finished with value: 0.8846428571428572 and parameters: {'num_hidden_layer': 3, 'neuron_per_layer': 64}. Best is trial 0 with value: 0.8846428571428572.\n",
            "[I 2025-04-06 15:46:07,146] Trial 1 finished with value: 0.8797142857142857 and parameters: {'num_hidden_layer': 4, 'neuron_per_layer': 96}. Best is trial 0 with value: 0.8846428571428572.\n",
            "[I 2025-04-06 15:46:18,456] Trial 2 finished with value: 0.8861428571428571 and parameters: {'num_hidden_layer': 1, 'neuron_per_layer': 128}. Best is trial 2 with value: 0.8861428571428571.\n",
            "[I 2025-04-06 15:46:33,534] Trial 3 finished with value: 0.8749285714285714 and parameters: {'num_hidden_layer': 3, 'neuron_per_layer': 56}. Best is trial 2 with value: 0.8861428571428571.\n",
            "[I 2025-04-06 15:46:46,285] Trial 4 finished with value: 0.8718571428571429 and parameters: {'num_hidden_layer': 2, 'neuron_per_layer': 32}. Best is trial 2 with value: 0.8861428571428571.\n",
            "[I 2025-04-06 15:47:04,330] Trial 5 finished with value: 0.8785 and parameters: {'num_hidden_layer': 5, 'neuron_per_layer': 80}. Best is trial 2 with value: 0.8861428571428571.\n",
            "[I 2025-04-06 15:47:18,675] Trial 6 finished with value: 0.8855714285714286 and parameters: {'num_hidden_layer': 3, 'neuron_per_layer': 120}. Best is trial 2 with value: 0.8861428571428571.\n",
            "[I 2025-04-06 15:47:35,535] Trial 7 finished with value: 0.8841428571428571 and parameters: {'num_hidden_layer': 4, 'neuron_per_layer': 80}. Best is trial 2 with value: 0.8861428571428571.\n",
            "[I 2025-04-06 15:47:53,627] Trial 8 finished with value: 0.8878571428571429 and parameters: {'num_hidden_layer': 5, 'neuron_per_layer': 120}. Best is trial 8 with value: 0.8878571428571429.\n",
            "[I 2025-04-06 15:48:08,765] Trial 9 finished with value: 0.8807142857142857 and parameters: {'num_hidden_layer': 3, 'neuron_per_layer': 72}. Best is trial 8 with value: 0.8878571428571429.\n"
          ]
        }
      ]
    },
    {
      "cell_type": "code",
      "source": [
        "study.best_value"
      ],
      "metadata": {
        "colab": {
          "base_uri": "https://localhost:8080/"
        },
        "id": "y65G078Nxyyt",
        "outputId": "9323ecec-e8d1-4f89-ad64-f007950134dc"
      },
      "execution_count": null,
      "outputs": [
        {
          "output_type": "execute_result",
          "data": {
            "text/plain": [
              "0.8878571428571429"
            ]
          },
          "metadata": {},
          "execution_count": 15
        }
      ]
    },
    {
      "cell_type": "code",
      "source": [
        "study.best_params"
      ],
      "metadata": {
        "colab": {
          "base_uri": "https://localhost:8080/"
        },
        "id": "IFTq5TGf0nfm",
        "outputId": "a06a7a4c-bda4-4110-8d27-8a8473f795d1"
      },
      "execution_count": null,
      "outputs": [
        {
          "output_type": "execute_result",
          "data": {
            "text/plain": [
              "{'num_hidden_layer': 5, 'neuron_per_layer': 120}"
            ]
          },
          "metadata": {},
          "execution_count": 16
        }
      ]
    },
    {
      "cell_type": "code",
      "source": [
        "# New model defination\n",
        "\n",
        "class Model2(nn.Module):\n",
        "\n",
        "  def __init__(self,input_dim,output_dim,num_hidden_layer,neuron_per_layer,dropout):\n",
        "\n",
        "    super().__init__()\n",
        "\n",
        "    layers = []\n",
        "\n",
        "    for i in range(num_hidden_layer):\n",
        "\n",
        "      layers.append(nn.Linear(input_dim,neuron_per_layer))\n",
        "      layers.append(nn.BatchNorm1d(neuron_per_layer))\n",
        "      layers.append(nn.ReLU())\n",
        "      layers.append(nn.Dropout(p=dropout))\n",
        "      input_dim = neuron_per_layer\n",
        "\n",
        "    layers.append(nn.Linear(neuron_per_layer,output_dim))\n",
        "\n",
        "    self.model = nn.Sequential(*layers)\n",
        "\n",
        "  def forward(self,x):\n",
        "\n",
        "    return self.model(x)"
      ],
      "metadata": {
        "id": "NXTkgFMk1YON"
      },
      "execution_count": null,
      "outputs": []
    },
    {
      "cell_type": "code",
      "source": [
        "# Objective function for Optuna\n",
        "\n",
        "def objective2(trial):\n",
        "\n",
        "  num_hidden_layer = trial.suggest_int('num_hidden_layer',1,5)\n",
        "  neuron_per_layer = trial.suggest_int('neuron_per_layer',8,128,step=8)\n",
        "  epochs = trial.suggest_int('epochs',10,50,step=10)\n",
        "  lr = trial.suggest_float('lr',1e-5,1e-1,log=True)\n",
        "  dropout = trial.suggest_float('dropout',0.1,0.5,step=0.1)\n",
        "  batch_size = trial.suggest_categorical('batch_size',[128,256,512])\n",
        "  optimizer_name = trial.suggest_categorical('optimizer',['Adam','SGD'])\n",
        "\n",
        "  train_loader = DataLoader(train_dataset, batch_size=batch_size,pin_memory=True, shuffle=True) # use larger batch size and pin_memory\n",
        "  test_loader = DataLoader(test_dataset, batch_size=batch_size,pin_memory=True, shuffle=True)\n",
        "\n",
        "\n",
        "  input_dim = 784\n",
        "  output_dim = 10\n",
        "\n",
        "  model = Model2(input_dim,output_dim,num_hidden_layer,neuron_per_layer,dropout)\n",
        "  model.to(device)\n",
        "\n",
        "  lossfn = nn.CrossEntropyLoss()\n",
        "\n",
        "  if optimizer_name == 'Adam':\n",
        "    optimizer = optim.Adam(model.parameters(), lr=lr)\n",
        "  else:\n",
        "    optimizer = optim.SGD(model.parameters(), lr=lr)\n",
        "\n",
        "  for i in range(epochs):\n",
        "\n",
        "    for batch_features, batch_labels in train_loader:\n",
        "\n",
        "      batch_features, batch_labels = batch_features.to(device), batch_labels.to(device)\n",
        "\n",
        "      output = model(batch_features)\n",
        "\n",
        "      loss = lossfn(output, batch_labels)\n",
        "\n",
        "      optimizer.zero_grad()\n",
        "\n",
        "      loss.backward()\n",
        "\n",
        "      optimizer.step()\n",
        "\n",
        "\n",
        "  model.eval()\n",
        "\n",
        "\n",
        "  total = 0\n",
        "  count = 0\n",
        "\n",
        "  with torch.no_grad():\n",
        "\n",
        "    for batch_features, batch_labels in test_loader:\n",
        "\n",
        "      batch_features, batch_labels = batch_features.to(device), batch_labels.to(device)\n",
        "\n",
        "      output = model(batch_features)\n",
        "\n",
        "      _, predicted = torch.max(output.data, 1)\n",
        "\n",
        "      total += batch_labels.size(0)\n",
        "\n",
        "      count += (predicted == batch_labels).sum().item()\n",
        "\n",
        "  accuracy = count / total\n",
        "\n",
        "  return accuracy"
      ],
      "metadata": {
        "id": "eEf7gVFe0rko"
      },
      "execution_count": null,
      "outputs": []
    },
    {
      "cell_type": "code",
      "source": [
        "study2 = optuna.create_study(direction='maximize')\n",
        "study2.optimize(objective2, n_trials=20)"
      ],
      "metadata": {
        "colab": {
          "base_uri": "https://localhost:8080/"
        },
        "id": "OVh3CWXl18Ds",
        "outputId": "77635cdd-d782-4d16-aab9-e55076e4989d"
      },
      "execution_count": null,
      "outputs": [
        {
          "output_type": "stream",
          "name": "stderr",
          "text": [
            "[I 2025-04-06 16:19:46,016] A new study created in memory with name: no-name-88f1af95-09a4-4893-8037-3fcbca8b5811\n",
            "[I 2025-04-06 16:20:11,657] Trial 0 finished with value: 0.8017857142857143 and parameters: {'num_hidden_layer': 1, 'neuron_per_layer': 88, 'epochs': 20, 'lr': 0.0003983399390918529, 'dropout': 0.30000000000000004, 'batch_size': 128, 'optimizer': 'SGD'}. Best is trial 0 with value: 0.8017857142857143.\n",
            "[I 2025-04-06 16:20:27,633] Trial 1 finished with value: 0.8115714285714286 and parameters: {'num_hidden_layer': 1, 'neuron_per_layer': 8, 'epochs': 20, 'lr': 0.00011778306070844803, 'dropout': 0.2, 'batch_size': 256, 'optimizer': 'Adam'}. Best is trial 1 with value: 0.8115714285714286.\n",
            "[I 2025-04-06 16:21:03,449] Trial 2 finished with value: 0.5157857142857143 and parameters: {'num_hidden_layer': 3, 'neuron_per_layer': 40, 'epochs': 50, 'lr': 7.240239610195713e-05, 'dropout': 0.4, 'batch_size': 512, 'optimizer': 'SGD'}. Best is trial 1 with value: 0.8115714285714286.\n",
            "[I 2025-04-06 16:21:40,867] Trial 3 finished with value: 0.8771428571428571 and parameters: {'num_hidden_layer': 2, 'neuron_per_layer': 32, 'epochs': 30, 'lr': 0.07200661703801843, 'dropout': 0.1, 'batch_size': 128, 'optimizer': 'SGD'}. Best is trial 3 with value: 0.8771428571428571.\n",
            "[I 2025-04-06 16:22:18,520] Trial 4 finished with value: 0.6102142857142857 and parameters: {'num_hidden_layer': 3, 'neuron_per_layer': 88, 'epochs': 40, 'lr': 4.253484566405502e-05, 'dropout': 0.30000000000000004, 'batch_size': 256, 'optimizer': 'SGD'}. Best is trial 3 with value: 0.8771428571428571.\n",
            "[I 2025-04-06 16:22:26,110] Trial 5 finished with value: 0.8717857142857143 and parameters: {'num_hidden_layer': 3, 'neuron_per_layer': 96, 'epochs': 10, 'lr': 0.010368245219466814, 'dropout': 0.4, 'batch_size': 512, 'optimizer': 'Adam'}. Best is trial 3 with value: 0.8771428571428571.\n",
            "[I 2025-04-06 16:23:07,779] Trial 6 finished with value: 0.6969285714285715 and parameters: {'num_hidden_layer': 1, 'neuron_per_layer': 56, 'epochs': 40, 'lr': 2.3843634960093278e-05, 'dropout': 0.2, 'batch_size': 128, 'optimizer': 'SGD'}. Best is trial 3 with value: 0.8771428571428571.\n"
          ]
        }
      ]
    },
    {
      "cell_type": "code",
      "source": [
        "study2.best_value"
      ],
      "metadata": {
        "id": "yMklLH1J2AR4"
      },
      "execution_count": null,
      "outputs": []
    },
    {
      "cell_type": "code",
      "source": [
        "study2.best_params"
      ],
      "metadata": {
        "id": "nzyGVfmR2FXu"
      },
      "execution_count": null,
      "outputs": []
    },
    {
      "cell_type": "code",
      "source": [],
      "metadata": {
        "id": "7duK918o2HLv"
      },
      "execution_count": null,
      "outputs": []
    }
  ]
}